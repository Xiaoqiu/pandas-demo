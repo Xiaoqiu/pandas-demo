{
 "cells": [
  {
   "cell_type": "code",
   "execution_count": 3,
   "outputs": [
    {
     "name": "stdout",
     "output_type": "stream",
     "text": [
      "YES\n"
     ]
    }
   ],
   "source": [
    "# 如果一个字符串为str，把字符串的前面任意部分挪到后面形成的字符串叫str的旋转词。比如str=“12345”，str的旋转串有“12345”、“45123”等等。给定两个字符串，判断是否为旋转词。\n",
    "#\n",
    "# 数据范围：\n",
    "#\n",
    "# 输入描述:\n",
    "# 输出包含三行，第一个两个整数n和m，分别表示两个字符串的长度。第二行和第三行各输入一个字符串。\n",
    "#\n",
    "#\n",
    "# 输出描述:\n",
    "# 如果两个字符串互为旋转词请输出“YES”，否则输出“NO”。\n",
    "# 示例1\n",
    "# 输入\n",
    "# 4 4\n",
    "# abcd\n",
    "# cdab\n",
    "# 输出\n",
    "# YES\n",
    "# 示例2\n",
    "# 输入\n",
    "# 2 3\n",
    "# aa\n",
    "# aaa\n",
    "# 输出\n",
    "# NO\n",
    "#\n",
    "# 备注:\n",
    "# 时间复杂度，空间复杂度。\n",
    "\n",
    "n=input()\n",
    "a=input()\n",
    "b=input()\n",
    "flag=1\n",
    "if len(a)!=len(b) :\n",
    "    flag=-1\n",
    "b=b+b\n",
    "if a not in b:\n",
    "    flag=-1\n",
    "if flag==-1:\n",
    "    print('NO')\n",
    "else:\n",
    "    print('YES')"
   ],
   "metadata": {
    "collapsed": false,
    "pycharm": {
     "name": "#%%\n"
    }
   }
  },
  {
   "cell_type": "code",
   "execution_count": null,
   "outputs": [],
   "source": [
    "## 主业务题： （4-5题）笔试 55% 面试 30% （35分及格/100分）\n",
    "## 主技巧：笔试45% 面试 70% （35分及格/100分）区分度\n",
    "## 技巧：有优化路径，可以用在许多题目，例如辅助数组\n",
    "## 区分技巧和业务题：leetcode刷点赞多的题是技巧题，\n"
   ],
   "metadata": {
    "collapsed": false,
    "pycharm": {
     "name": "#%%\n"
    }
   }
  },
  {
   "cell_type": "code",
   "execution_count": null,
   "outputs": [],
   "source": [
    "## 贪心-数轴覆盖\n",
    "# 数轴上有 N 个点，求一条长度为 K 的线段最多覆盖多少个点？，此处我们认为长度为1的线段最多可以覆盖1个点\n",
    "#\n",
    "# 数据范围：  ，\n",
    "#\n",
    "# 输入描述:\n",
    "# 第一行N和K，表示点数和线段长度\n",
    "# 第二行N个数，表示N个点的坐标\n",
    "#\n",
    "#\n",
    "# 输出描述:\n",
    "# 输出一个数，最多覆盖的点数\n",
    "# 示例1\n",
    "# 输入\n",
    "# 5 3\n",
    "# 1 2 3 4 5\n",
    "# 输出\n",
    "# 3\n",
    "# 示例2\n",
    "# 输入\n",
    "# 5 3\n",
    "# 1 3 5 7 9\n",
    "# 输出\n",
    "# 2\n",
    "\n",
    "n,k= input().split()\n",
    "n=int(n)\n",
    "k=int(k)\n",
    "N=input().split()\n",
    "ln=len(N)\n",
    "l=0\n",
    "m=0\n",
    "## 辅助点（索引）：i, l\n",
    "## 辅助变量：记录距离m\n",
    "for i in range(0,ln): ## 【1】 i向前移动\n",
    "    while int(N[i])-int(N[l])>=k: ## 【2】 i到l的距离超过绳子的长度，l向前移动\n",
    "        l+=1\n",
    "    m=max(m,i-l+1) ## 【3】 i向前移动，获取i到l的距离里面最大的值。\n",
    "print(m)\n"
   ],
   "metadata": {
    "collapsed": false,
    "pycharm": {
     "name": "#%%\n"
    }
   }
  },
  {
   "cell_type": "code",
   "execution_count": null,
   "outputs": [],
   "source": [
    "# 1.8 栈-完整字符串\n"
   ],
   "metadata": {
    "collapsed": false,
    "pycharm": {
     "name": "#%%\n"
    }
   }
  }
 ],
 "metadata": {
  "kernelspec": {
   "display_name": "Python 3",
   "language": "python",
   "name": "python3"
  },
  "language_info": {
   "codemirror_mode": {
    "name": "ipython",
    "version": 2
   },
   "file_extension": ".py",
   "mimetype": "text/x-python",
   "name": "python",
   "nbconvert_exporter": "python",
   "pygments_lexer": "ipython2",
   "version": "2.7.6"
  }
 },
 "nbformat": 4,
 "nbformat_minor": 0
}