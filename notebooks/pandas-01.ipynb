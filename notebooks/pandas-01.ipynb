{
 "cells": [
  {
   "cell_type": "code",
   "execution_count": 4,
   "id": "46756c4c",
   "metadata": {
    "pycharm": {
     "name": "#%%\n"
    }
   },
   "outputs": [],
   "source": [
    "import pandas as pd"
   ]
  },
  {
   "cell_type": "code",
   "execution_count": 5,
   "id": "c2f90f23",
   "metadata": {
    "pycharm": {
     "name": "#%%\n"
    }
   },
   "outputs": [],
   "source": [
    "df = pd.read_csv('data/survey_results_public.csv')"
   ]
  },
  {
   "cell_type": "code",
   "execution_count": 6,
   "id": "7847623b",
   "metadata": {
    "pycharm": {
     "name": "#%%\n"
    }
   },
   "outputs": [
    {
     "data": {
      "text/plain": "       Respondent MainBranch Hobbyist  \\\n88873       88062        NaN       No   \n88874       88076        NaN       No   \n88875       88182        NaN      Yes   \n88876       88212        NaN       No   \n88877       88282        NaN      Yes   \n88878       88377        NaN      Yes   \n88879       88601        NaN       No   \n88880       88802        NaN       No   \n88881       88816        NaN       No   \n88882       88863        NaN      Yes   \n\n                                             OpenSourcer  \\\n88873                                              Never   \n88874                                              Never   \n88875                         Once a month or more often   \n88876                            Less than once per year   \n88877                         Once a month or more often   \n88878  Less than once a month but more than once per ...   \n88879                                              Never   \n88880                                              Never   \n88881                                              Never   \n88882                            Less than once per year   \n\n                                              OpenSource  \\\n88873  OSS is, on average, of LOWER quality than prop...   \n88874  OSS is, on average, of HIGHER quality than pro...   \n88875  OSS is, on average, of HIGHER quality than pro...   \n88876  OSS is, on average, of HIGHER quality than pro...   \n88877  The quality of OSS and closed source software ...   \n88878  The quality of OSS and closed source software ...   \n88879  The quality of OSS and closed source software ...   \n88880                                                NaN   \n88881  OSS is, on average, of HIGHER quality than pro...   \n88882  OSS is, on average, of HIGHER quality than pro...   \n\n                                              Employment        Country  \\\n88873                                                NaN            NaN   \n88874                                 Employed full-time            NaN   \n88875                                 Employed part-time       Pakistan   \n88876                                 Employed full-time          Spain   \n88877                 Not employed, but looking for work  United States   \n88878             Not employed, and not looking for work         Canada   \n88879                                                NaN            NaN   \n88880                                 Employed full-time            NaN   \n88881  Independent contractor, freelancer, or self-em...            NaN   \n88882             Not employed, and not looking for work          Spain   \n\n              Student                                            EdLevel  \\\n88873             NaN                                                NaN   \n88874             NaN                                                NaN   \n88875             NaN  Secondary school (e.g. American high school, G...   \n88876              No  Secondary school (e.g. American high school, G...   \n88877              No  Some college/university study without earning ...   \n88878              No                          Primary/elementary school   \n88879             NaN                                                NaN   \n88880             NaN                                                NaN   \n88881             NaN                                                NaN   \n88882  Yes, full-time                 Professional degree (JD, MD, etc.)   \n\n                                          UndergradMajor  ...  \\\n88873                                                NaN  ...   \n88874                                                NaN  ...   \n88875                                                NaN  ...   \n88876                                                NaN  ...   \n88877  Computer science, computer engineering, or sof...  ...   \n88878                                                NaN  ...   \n88879                                                NaN  ...   \n88880                                                NaN  ...   \n88881                                                NaN  ...   \n88882  Computer science, computer engineering, or sof...  ...   \n\n                                           WelcomeChange  \\\n88873                                                NaN   \n88874                                                NaN   \n88875  Not applicable - I did not use Stack Overflow ...   \n88876                                                NaN   \n88877            Just as welcome now as I felt last year   \n88878                                                NaN   \n88879                                                NaN   \n88880                                                NaN   \n88881                                                NaN   \n88882           Somewhat less welcome now than last year   \n\n                                            SONewContent   Age Gender Trans  \\\n88873                                                NaN   NaN    NaN   NaN   \n88874                                                NaN   NaN    NaN   NaN   \n88875       Courses on technologies you're interested in   NaN    Man    No   \n88876  Tech articles written by other developers;Indu...  40.0    Man    No   \n88877                                                NaN   NaN    Man    No   \n88878  Tech articles written by other developers;Tech...   NaN    Man    No   \n88879                                                NaN   NaN    NaN   NaN   \n88880                                                NaN   NaN    NaN   NaN   \n88881                                                NaN   NaN    NaN   NaN   \n88882  Tech articles written by other developers;Indu...  18.0    Man    No   \n\n                     Sexuality  \\\n88873                      NaN   \n88874                      NaN   \n88875  Straight / Heterosexual   \n88876  Straight / Heterosexual   \n88877  Straight / Heterosexual   \n88878                      NaN   \n88879                      NaN   \n88880                      NaN   \n88881                      NaN   \n88882  Straight / Heterosexual   \n\n                                               Ethnicity Dependents  \\\n88873                                                NaN        NaN   \n88874                                                NaN        NaN   \n88875                                                NaN        Yes   \n88876                       White or of European descent         No   \n88877                                                NaN         No   \n88878                                                NaN         No   \n88879                                                NaN        NaN   \n88880                                                NaN        NaN   \n88881                                                NaN        NaN   \n88882  Hispanic or Latino/Latina;White or of European...         No   \n\n                SurveyLength                  SurveyEase  \n88873                    NaN                         NaN  \n88874                    NaN                         NaN  \n88875              Too short  Neither easy nor difficult  \n88876  Appropriate in length                        Easy  \n88877              Too short  Neither easy nor difficult  \n88878  Appropriate in length                        Easy  \n88879                    NaN                         NaN  \n88880                    NaN                         NaN  \n88881                    NaN                         NaN  \n88882  Appropriate in length                        Easy  \n\n[10 rows x 85 columns]",
      "text/html": "<div>\n<style scoped>\n    .dataframe tbody tr th:only-of-type {\n        vertical-align: middle;\n    }\n\n    .dataframe tbody tr th {\n        vertical-align: top;\n    }\n\n    .dataframe thead th {\n        text-align: right;\n    }\n</style>\n<table border=\"1\" class=\"dataframe\">\n  <thead>\n    <tr style=\"text-align: right;\">\n      <th></th>\n      <th>Respondent</th>\n      <th>MainBranch</th>\n      <th>Hobbyist</th>\n      <th>OpenSourcer</th>\n      <th>OpenSource</th>\n      <th>Employment</th>\n      <th>Country</th>\n      <th>Student</th>\n      <th>EdLevel</th>\n      <th>UndergradMajor</th>\n      <th>...</th>\n      <th>WelcomeChange</th>\n      <th>SONewContent</th>\n      <th>Age</th>\n      <th>Gender</th>\n      <th>Trans</th>\n      <th>Sexuality</th>\n      <th>Ethnicity</th>\n      <th>Dependents</th>\n      <th>SurveyLength</th>\n      <th>SurveyEase</th>\n    </tr>\n  </thead>\n  <tbody>\n    <tr>\n      <th>88873</th>\n      <td>88062</td>\n      <td>NaN</td>\n      <td>No</td>\n      <td>Never</td>\n      <td>OSS is, on average, of LOWER quality than prop...</td>\n      <td>NaN</td>\n      <td>NaN</td>\n      <td>NaN</td>\n      <td>NaN</td>\n      <td>NaN</td>\n      <td>...</td>\n      <td>NaN</td>\n      <td>NaN</td>\n      <td>NaN</td>\n      <td>NaN</td>\n      <td>NaN</td>\n      <td>NaN</td>\n      <td>NaN</td>\n      <td>NaN</td>\n      <td>NaN</td>\n      <td>NaN</td>\n    </tr>\n    <tr>\n      <th>88874</th>\n      <td>88076</td>\n      <td>NaN</td>\n      <td>No</td>\n      <td>Never</td>\n      <td>OSS is, on average, of HIGHER quality than pro...</td>\n      <td>Employed full-time</td>\n      <td>NaN</td>\n      <td>NaN</td>\n      <td>NaN</td>\n      <td>NaN</td>\n      <td>...</td>\n      <td>NaN</td>\n      <td>NaN</td>\n      <td>NaN</td>\n      <td>NaN</td>\n      <td>NaN</td>\n      <td>NaN</td>\n      <td>NaN</td>\n      <td>NaN</td>\n      <td>NaN</td>\n      <td>NaN</td>\n    </tr>\n    <tr>\n      <th>88875</th>\n      <td>88182</td>\n      <td>NaN</td>\n      <td>Yes</td>\n      <td>Once a month or more often</td>\n      <td>OSS is, on average, of HIGHER quality than pro...</td>\n      <td>Employed part-time</td>\n      <td>Pakistan</td>\n      <td>NaN</td>\n      <td>Secondary school (e.g. American high school, G...</td>\n      <td>NaN</td>\n      <td>...</td>\n      <td>Not applicable - I did not use Stack Overflow ...</td>\n      <td>Courses on technologies you're interested in</td>\n      <td>NaN</td>\n      <td>Man</td>\n      <td>No</td>\n      <td>Straight / Heterosexual</td>\n      <td>NaN</td>\n      <td>Yes</td>\n      <td>Too short</td>\n      <td>Neither easy nor difficult</td>\n    </tr>\n    <tr>\n      <th>88876</th>\n      <td>88212</td>\n      <td>NaN</td>\n      <td>No</td>\n      <td>Less than once per year</td>\n      <td>OSS is, on average, of HIGHER quality than pro...</td>\n      <td>Employed full-time</td>\n      <td>Spain</td>\n      <td>No</td>\n      <td>Secondary school (e.g. American high school, G...</td>\n      <td>NaN</td>\n      <td>...</td>\n      <td>NaN</td>\n      <td>Tech articles written by other developers;Indu...</td>\n      <td>40.0</td>\n      <td>Man</td>\n      <td>No</td>\n      <td>Straight / Heterosexual</td>\n      <td>White or of European descent</td>\n      <td>No</td>\n      <td>Appropriate in length</td>\n      <td>Easy</td>\n    </tr>\n    <tr>\n      <th>88877</th>\n      <td>88282</td>\n      <td>NaN</td>\n      <td>Yes</td>\n      <td>Once a month or more often</td>\n      <td>The quality of OSS and closed source software ...</td>\n      <td>Not employed, but looking for work</td>\n      <td>United States</td>\n      <td>No</td>\n      <td>Some college/university study without earning ...</td>\n      <td>Computer science, computer engineering, or sof...</td>\n      <td>...</td>\n      <td>Just as welcome now as I felt last year</td>\n      <td>NaN</td>\n      <td>NaN</td>\n      <td>Man</td>\n      <td>No</td>\n      <td>Straight / Heterosexual</td>\n      <td>NaN</td>\n      <td>No</td>\n      <td>Too short</td>\n      <td>Neither easy nor difficult</td>\n    </tr>\n    <tr>\n      <th>88878</th>\n      <td>88377</td>\n      <td>NaN</td>\n      <td>Yes</td>\n      <td>Less than once a month but more than once per ...</td>\n      <td>The quality of OSS and closed source software ...</td>\n      <td>Not employed, and not looking for work</td>\n      <td>Canada</td>\n      <td>No</td>\n      <td>Primary/elementary school</td>\n      <td>NaN</td>\n      <td>...</td>\n      <td>NaN</td>\n      <td>Tech articles written by other developers;Tech...</td>\n      <td>NaN</td>\n      <td>Man</td>\n      <td>No</td>\n      <td>NaN</td>\n      <td>NaN</td>\n      <td>No</td>\n      <td>Appropriate in length</td>\n      <td>Easy</td>\n    </tr>\n    <tr>\n      <th>88879</th>\n      <td>88601</td>\n      <td>NaN</td>\n      <td>No</td>\n      <td>Never</td>\n      <td>The quality of OSS and closed source software ...</td>\n      <td>NaN</td>\n      <td>NaN</td>\n      <td>NaN</td>\n      <td>NaN</td>\n      <td>NaN</td>\n      <td>...</td>\n      <td>NaN</td>\n      <td>NaN</td>\n      <td>NaN</td>\n      <td>NaN</td>\n      <td>NaN</td>\n      <td>NaN</td>\n      <td>NaN</td>\n      <td>NaN</td>\n      <td>NaN</td>\n      <td>NaN</td>\n    </tr>\n    <tr>\n      <th>88880</th>\n      <td>88802</td>\n      <td>NaN</td>\n      <td>No</td>\n      <td>Never</td>\n      <td>NaN</td>\n      <td>Employed full-time</td>\n      <td>NaN</td>\n      <td>NaN</td>\n      <td>NaN</td>\n      <td>NaN</td>\n      <td>...</td>\n      <td>NaN</td>\n      <td>NaN</td>\n      <td>NaN</td>\n      <td>NaN</td>\n      <td>NaN</td>\n      <td>NaN</td>\n      <td>NaN</td>\n      <td>NaN</td>\n      <td>NaN</td>\n      <td>NaN</td>\n    </tr>\n    <tr>\n      <th>88881</th>\n      <td>88816</td>\n      <td>NaN</td>\n      <td>No</td>\n      <td>Never</td>\n      <td>OSS is, on average, of HIGHER quality than pro...</td>\n      <td>Independent contractor, freelancer, or self-em...</td>\n      <td>NaN</td>\n      <td>NaN</td>\n      <td>NaN</td>\n      <td>NaN</td>\n      <td>...</td>\n      <td>NaN</td>\n      <td>NaN</td>\n      <td>NaN</td>\n      <td>NaN</td>\n      <td>NaN</td>\n      <td>NaN</td>\n      <td>NaN</td>\n      <td>NaN</td>\n      <td>NaN</td>\n      <td>NaN</td>\n    </tr>\n    <tr>\n      <th>88882</th>\n      <td>88863</td>\n      <td>NaN</td>\n      <td>Yes</td>\n      <td>Less than once per year</td>\n      <td>OSS is, on average, of HIGHER quality than pro...</td>\n      <td>Not employed, and not looking for work</td>\n      <td>Spain</td>\n      <td>Yes, full-time</td>\n      <td>Professional degree (JD, MD, etc.)</td>\n      <td>Computer science, computer engineering, or sof...</td>\n      <td>...</td>\n      <td>Somewhat less welcome now than last year</td>\n      <td>Tech articles written by other developers;Indu...</td>\n      <td>18.0</td>\n      <td>Man</td>\n      <td>No</td>\n      <td>Straight / Heterosexual</td>\n      <td>Hispanic or Latino/Latina;White or of European...</td>\n      <td>No</td>\n      <td>Appropriate in length</td>\n      <td>Easy</td>\n    </tr>\n  </tbody>\n</table>\n<p>10 rows × 85 columns</p>\n</div>"
     },
     "execution_count": 6,
     "metadata": {},
     "output_type": "execute_result"
    }
   ],
   "source": [
    "df.tail(10)"
   ]
  },
  {
   "cell_type": "code",
   "execution_count": null,
   "id": "8f3d4cf7",
   "metadata": {
    "pycharm": {
     "name": "#%%\n"
    }
   },
   "outputs": [],
   "source": [
    "df.head(10)"
   ]
  },
  {
   "cell_type": "code",
   "execution_count": null,
   "id": "e48a1fed",
   "metadata": {
    "pycharm": {
     "name": "#%%\n"
    }
   },
   "outputs": [],
   "source": [
    "df.info()"
   ]
  },
  {
   "cell_type": "code",
   "execution_count": null,
   "id": "fa9e6d9b",
   "metadata": {
    "pycharm": {
     "name": "#%%\n"
    }
   },
   "outputs": [],
   "source": [
    "df.shape"
   ]
  },
  {
   "cell_type": "code",
   "execution_count": null,
   "id": "13ed5f47",
   "metadata": {
    "pycharm": {
     "name": "#%%\n"
    }
   },
   "outputs": [],
   "source": [
    "pd.set_option('display.max_columns',85)\n",
    "pd.set_option('display.max_rows',85)"
   ]
  },
  {
   "cell_type": "code",
   "execution_count": null,
   "id": "82e9d22a",
   "metadata": {
    "pycharm": {
     "name": "#%%\n"
    }
   },
   "outputs": [],
   "source": [
    "schema_df = pd.read_csv('data/survey_results_schema.csv')"
   ]
  },
  {
   "cell_type": "code",
   "execution_count": null,
   "id": "579e0d9e",
   "metadata": {
    "pycharm": {
     "name": "#%%\n"
    }
   },
   "outputs": [],
   "source": [
    "schema_df"
   ]
  },
  {
   "cell_type": "code",
   "execution_count": null,
   "id": "194e9f8c",
   "metadata": {
    "pycharm": {
     "name": "#%%\n"
    }
   },
   "outputs": [],
   "source": [
    "pd"
   ]
  },
  {
   "cell_type": "code",
   "execution_count": null,
   "outputs": [],
   "source": [],
   "metadata": {
    "collapsed": false,
    "pycharm": {
     "name": "#%%\n"
    }
   }
  },
  {
   "cell_type": "code",
   "execution_count": null,
   "outputs": [],
   "source": [],
   "metadata": {
    "collapsed": false,
    "pycharm": {
     "name": "#%%\n"
    }
   }
  }
 ],
 "metadata": {
  "kernelspec": {
   "display_name": "Python 3 (ipykernel)",
   "language": "python",
   "name": "python3"
  },
  "language_info": {
   "codemirror_mode": {
    "name": "ipython",
    "version": 3
   },
   "file_extension": ".py",
   "mimetype": "text/x-python",
   "name": "python",
   "nbconvert_exporter": "python",
   "pygments_lexer": "ipython3",
   "version": "3.8.9"
  }
 },
 "nbformat": 4,
 "nbformat_minor": 5
}