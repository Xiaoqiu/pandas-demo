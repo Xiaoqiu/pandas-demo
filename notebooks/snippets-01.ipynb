{
 "cells": [
  {
   "cell_type": "code",
   "execution_count": 1,
   "id": "01292c87",
   "metadata": {
    "pycharm": {
     "name": "#%%\n"
    }
   },
   "outputs": [],
   "source": [
    "## dictionary \n",
    "person = {\n",
    "    \"first\" : \"Corey\",\n",
    "    \"last\" : \"Schafer\",\n",
    "    \"email\" : \"CoreyMSchafer@gmail.com\"\n",
    "}"
   ]
  },
  {
   "cell_type": "code",
   "execution_count": 2,
   "id": "1dc8df0b",
   "metadata": {
    "pycharm": {
     "name": "#%%\n"
    }
   },
   "outputs": [],
   "source": [
    "## dictionary list\n",
    "people = {\n",
    "    \"first\" : [\"Corey\"],\n",
    "    \"last\" : [\"Schafer\"],\n",
    "    \"email\" : [\"CoreyMSchafer@gmail.com\"]\n",
    "}"
   ]
  },
  {
   "cell_type": "code",
   "execution_count": 3,
   "id": "f095f245",
   "metadata": {
    "pycharm": {
     "name": "#%%\n"
    }
   },
   "outputs": [],
   "source": [
    "## key is columns, values are rows. also is 2 dimanson values\n",
    "people = {\n",
    "    \"first\" : [\"Corey\",'Jane','John'],\n",
    "    \"last\" : [\"Schafer\",'Doe','Doe'],\n",
    "    \"email\" : [\"CoreyMSchafer@gmail.com\",'JaneDoe@gmail.com','JohnDoe@gamil.com']\n",
    "}"
   ]
  },
  {
   "cell_type": "code",
   "execution_count": 4,
   "id": "ce965d1d",
   "metadata": {
    "pycharm": {
     "name": "#%%\n"
    }
   },
   "outputs": [
    {
     "data": {
      "text/plain": "['CoreyMSchafer@gmail.com', 'JaneDoe@gmail.com', 'JohnDoe@gamil.com']"
     },
     "execution_count": 4,
     "metadata": {},
     "output_type": "execute_result"
    }
   ],
   "source": [
    "## 获取email这一列的值\n",
    "people['email']"
   ]
  },
  {
   "cell_type": "code",
   "execution_count": 5,
   "id": "826c6d77",
   "metadata": {
    "pycharm": {
     "name": "#%%\n"
    }
   },
   "outputs": [],
   "source": [
    "import pandas as pd"
   ]
  },
  {
   "cell_type": "code",
   "execution_count": 6,
   "id": "4e7243fe",
   "metadata": {
    "pycharm": {
     "name": "#%%\n"
    }
   },
   "outputs": [],
   "source": [
    "## 从字典创建dataFrame,会多出一列index，索引，一般会是唯一的，但是也可以不是唯一的。\n",
    "df = pd.DataFrame(people)"
   ]
  },
  {
   "cell_type": "code",
   "execution_count": 7,
   "id": "b1c38397",
   "metadata": {
    "pycharm": {
     "name": "#%%\n"
    }
   },
   "outputs": [
    {
     "data": {
      "text/plain": "   first     last                    email\n0  Corey  Schafer  CoreyMSchafer@gmail.com\n1   Jane      Doe        JaneDoe@gmail.com\n2   John      Doe        JohnDoe@gamil.com",
      "text/html": "<div>\n<style scoped>\n    .dataframe tbody tr th:only-of-type {\n        vertical-align: middle;\n    }\n\n    .dataframe tbody tr th {\n        vertical-align: top;\n    }\n\n    .dataframe thead th {\n        text-align: right;\n    }\n</style>\n<table border=\"1\" class=\"dataframe\">\n  <thead>\n    <tr style=\"text-align: right;\">\n      <th></th>\n      <th>first</th>\n      <th>last</th>\n      <th>email</th>\n    </tr>\n  </thead>\n  <tbody>\n    <tr>\n      <th>0</th>\n      <td>Corey</td>\n      <td>Schafer</td>\n      <td>CoreyMSchafer@gmail.com</td>\n    </tr>\n    <tr>\n      <th>1</th>\n      <td>Jane</td>\n      <td>Doe</td>\n      <td>JaneDoe@gmail.com</td>\n    </tr>\n    <tr>\n      <th>2</th>\n      <td>John</td>\n      <td>Doe</td>\n      <td>JohnDoe@gamil.com</td>\n    </tr>\n  </tbody>\n</table>\n</div>"
     },
     "execution_count": 7,
     "metadata": {},
     "output_type": "execute_result"
    }
   ],
   "source": [
    "df"
   ]
  },
  {
   "cell_type": "code",
   "execution_count": 8,
   "id": "aa15861c",
   "metadata": {
    "pycharm": {
     "name": "#%%\n"
    }
   },
   "outputs": [
    {
     "data": {
      "text/plain": "0    CoreyMSchafer@gmail.com\n1          JaneDoe@gmail.com\n2          JohnDoe@gamil.com\nName: email, dtype: object"
     },
     "execution_count": 8,
     "metadata": {},
     "output_type": "execute_result"
    }
   ],
   "source": [
    "## dataframe 不仅仅这是一个字典的列表，match more\n",
    "## 优先使用df['email']，如果用df.email会和属性和方法调用冲突\n",
    "df['email']"
   ]
  },
  {
   "cell_type": "code",
   "execution_count": 9,
   "id": "cab00ab9",
   "metadata": {
    "pycharm": {
     "name": "#%%\n"
    }
   },
   "outputs": [
    {
     "data": {
      "text/plain": "pandas.core.series.Series"
     },
     "execution_count": 9,
     "metadata": {},
     "output_type": "execute_result"
    }
   ],
   "source": [
    "## series: 一个list，一个一维的数组，也是一行数据的意思\n",
    "## dataframe: 一个二维的数组，由多个series组成，多列数据组成。\n",
    "type(df['email'])"
   ]
  },
  {
   "cell_type": "code",
   "execution_count": 10,
   "id": "f864d65f",
   "metadata": {
    "pycharm": {
     "name": "#%%\n"
    }
   },
   "outputs": [
    {
     "data": {
      "text/plain": "0    CoreyMSchafer@gmail.com\n1          JaneDoe@gmail.com\n2          JohnDoe@gamil.com\nName: email, dtype: object"
     },
     "execution_count": 10,
     "metadata": {},
     "output_type": "execute_result"
    }
   ],
   "source": [
    "df.email"
   ]
  },
  {
   "cell_type": "code",
   "execution_count": 11,
   "id": "8e0ff841",
   "metadata": {
    "pycharm": {
     "name": "#%%\n"
    }
   },
   "outputs": [
    {
     "data": {
      "text/plain": "      last                    email\n0  Schafer  CoreyMSchafer@gmail.com\n1      Doe        JaneDoe@gmail.com\n2      Doe        JohnDoe@gamil.com",
      "text/html": "<div>\n<style scoped>\n    .dataframe tbody tr th:only-of-type {\n        vertical-align: middle;\n    }\n\n    .dataframe tbody tr th {\n        vertical-align: top;\n    }\n\n    .dataframe thead th {\n        text-align: right;\n    }\n</style>\n<table border=\"1\" class=\"dataframe\">\n  <thead>\n    <tr style=\"text-align: right;\">\n      <th></th>\n      <th>last</th>\n      <th>email</th>\n    </tr>\n  </thead>\n  <tbody>\n    <tr>\n      <th>0</th>\n      <td>Schafer</td>\n      <td>CoreyMSchafer@gmail.com</td>\n    </tr>\n    <tr>\n      <th>1</th>\n      <td>Doe</td>\n      <td>JaneDoe@gmail.com</td>\n    </tr>\n    <tr>\n      <th>2</th>\n      <td>Doe</td>\n      <td>JohnDoe@gamil.com</td>\n    </tr>\n  </tbody>\n</table>\n</div>"
     },
     "execution_count": 11,
     "metadata": {},
     "output_type": "execute_result"
    }
   ],
   "source": [
    "## 获取多个列\n",
    "df[['last','email']]"
   ]
  },
  {
   "cell_type": "code",
   "execution_count": 12,
   "id": "c16ea8e9",
   "metadata": {
    "pycharm": {
     "name": "#%%\n"
    }
   },
   "outputs": [
    {
     "data": {
      "text/plain": "Index(['first', 'last', 'email'], dtype='object')"
     },
     "execution_count": 12,
     "metadata": {},
     "output_type": "execute_result"
    }
   ],
   "source": [
    "df.columns"
   ]
  },
  {
   "cell_type": "code",
   "execution_count": 13,
   "id": "f5cfe249",
   "metadata": {
    "pycharm": {
     "name": "#%%\n"
    }
   },
   "outputs": [
    {
     "data": {
      "text/plain": "first                      Corey\nlast                     Schafer\nemail    CoreyMSchafer@gmail.com\nName: 0, dtype: object"
     },
     "execution_count": 13,
     "metadata": {},
     "output_type": "execute_result"
    }
   ],
   "source": [
    "## 获取行,索引就变成了列名称，不再是序列号\n",
    "df.iloc[0]"
   ]
  },
  {
   "cell_type": "code",
   "execution_count": 14,
   "id": "8153dcde",
   "metadata": {
    "pycharm": {
     "name": "#%%\n"
    }
   },
   "outputs": [
    {
     "data": {
      "text/plain": "   first     last                    email\n0  Corey  Schafer  CoreyMSchafer@gmail.com\n1   Jane      Doe        JaneDoe@gmail.com",
      "text/html": "<div>\n<style scoped>\n    .dataframe tbody tr th:only-of-type {\n        vertical-align: middle;\n    }\n\n    .dataframe tbody tr th {\n        vertical-align: top;\n    }\n\n    .dataframe thead th {\n        text-align: right;\n    }\n</style>\n<table border=\"1\" class=\"dataframe\">\n  <thead>\n    <tr style=\"text-align: right;\">\n      <th></th>\n      <th>first</th>\n      <th>last</th>\n      <th>email</th>\n    </tr>\n  </thead>\n  <tbody>\n    <tr>\n      <th>0</th>\n      <td>Corey</td>\n      <td>Schafer</td>\n      <td>CoreyMSchafer@gmail.com</td>\n    </tr>\n    <tr>\n      <th>1</th>\n      <td>Jane</td>\n      <td>Doe</td>\n      <td>JaneDoe@gmail.com</td>\n    </tr>\n  </tbody>\n</table>\n</div>"
     },
     "execution_count": 14,
     "metadata": {},
     "output_type": "execute_result"
    }
   ],
   "source": [
    "## 获取多行，指定列\n",
    "df.iloc[[0,1]]"
   ]
  },
  {
   "cell_type": "code",
   "execution_count": 15,
   "id": "6db083d0",
   "metadata": {
    "pycharm": {
     "name": "#%%\n"
    }
   },
   "outputs": [
    {
     "data": {
      "text/plain": "0    CoreyMSchafer@gmail.com\n1          JaneDoe@gmail.com\nName: email, dtype: object"
     },
     "execution_count": 15,
     "metadata": {},
     "output_type": "execute_result"
    }
   ],
   "source": [
    "## 获取多行，指定列\n",
    "df.iloc[[0,1],2]"
   ]
  },
  {
   "cell_type": "code",
   "execution_count": 16,
   "id": "f6859ad0",
   "metadata": {
    "pycharm": {
     "name": "#%%\n"
    }
   },
   "outputs": [
    {
     "data": {
      "text/plain": "                     email     last\n0  CoreyMSchafer@gmail.com  Schafer\n1        JaneDoe@gmail.com      Doe",
      "text/html": "<div>\n<style scoped>\n    .dataframe tbody tr th:only-of-type {\n        vertical-align: middle;\n    }\n\n    .dataframe tbody tr th {\n        vertical-align: top;\n    }\n\n    .dataframe thead th {\n        text-align: right;\n    }\n</style>\n<table border=\"1\" class=\"dataframe\">\n  <thead>\n    <tr style=\"text-align: right;\">\n      <th></th>\n      <th>email</th>\n      <th>last</th>\n    </tr>\n  </thead>\n  <tbody>\n    <tr>\n      <th>0</th>\n      <td>CoreyMSchafer@gmail.com</td>\n      <td>Schafer</td>\n    </tr>\n    <tr>\n      <th>1</th>\n      <td>JaneDoe@gmail.com</td>\n      <td>Doe</td>\n    </tr>\n  </tbody>\n</table>\n</div>"
     },
     "execution_count": 16,
     "metadata": {},
     "output_type": "execute_result"
    }
   ],
   "source": [
    "## 获取多行，指定列label\n",
    "df.loc[[0,1],['email','last']]"
   ]
  },
  {
   "cell_type": "code",
   "execution_count": 17,
   "id": "71a4d67c",
   "metadata": {
    "pycharm": {
     "name": "#%%\n"
    }
   },
   "outputs": [
    {
     "data": {
      "text/plain": "   first     last                    email\n0  Corey  Schafer  CoreyMSchafer@gmail.com\n1   Jane      Doe        JaneDoe@gmail.com\n2   John      Doe        JohnDoe@gamil.com",
      "text/html": "<div>\n<style scoped>\n    .dataframe tbody tr th:only-of-type {\n        vertical-align: middle;\n    }\n\n    .dataframe tbody tr th {\n        vertical-align: top;\n    }\n\n    .dataframe thead th {\n        text-align: right;\n    }\n</style>\n<table border=\"1\" class=\"dataframe\">\n  <thead>\n    <tr style=\"text-align: right;\">\n      <th></th>\n      <th>first</th>\n      <th>last</th>\n      <th>email</th>\n    </tr>\n  </thead>\n  <tbody>\n    <tr>\n      <th>0</th>\n      <td>Corey</td>\n      <td>Schafer</td>\n      <td>CoreyMSchafer@gmail.com</td>\n    </tr>\n    <tr>\n      <th>1</th>\n      <td>Jane</td>\n      <td>Doe</td>\n      <td>JaneDoe@gmail.com</td>\n    </tr>\n    <tr>\n      <th>2</th>\n      <td>John</td>\n      <td>Doe</td>\n      <td>JohnDoe@gamil.com</td>\n    </tr>\n  </tbody>\n</table>\n</div>"
     },
     "execution_count": 17,
     "metadata": {},
     "output_type": "execute_result"
    }
   ],
   "source": [
    "df"
   ]
  },
  {
   "cell_type": "code",
   "execution_count": 18,
   "id": "b2973327",
   "metadata": {
    "pycharm": {
     "name": "#%%\n"
    }
   },
   "outputs": [
    {
     "data": {
      "text/plain": "                         first     last\nemail                                  \nCoreyMSchafer@gmail.com  Corey  Schafer\nJaneDoe@gmail.com         Jane      Doe\nJohnDoe@gamil.com         John      Doe",
      "text/html": "<div>\n<style scoped>\n    .dataframe tbody tr th:only-of-type {\n        vertical-align: middle;\n    }\n\n    .dataframe tbody tr th {\n        vertical-align: top;\n    }\n\n    .dataframe thead th {\n        text-align: right;\n    }\n</style>\n<table border=\"1\" class=\"dataframe\">\n  <thead>\n    <tr style=\"text-align: right;\">\n      <th></th>\n      <th>first</th>\n      <th>last</th>\n    </tr>\n    <tr>\n      <th>email</th>\n      <th></th>\n      <th></th>\n    </tr>\n  </thead>\n  <tbody>\n    <tr>\n      <th>CoreyMSchafer@gmail.com</th>\n      <td>Corey</td>\n      <td>Schafer</td>\n    </tr>\n    <tr>\n      <th>JaneDoe@gmail.com</th>\n      <td>Jane</td>\n      <td>Doe</td>\n    </tr>\n    <tr>\n      <th>JohnDoe@gamil.com</th>\n      <td>John</td>\n      <td>Doe</td>\n    </tr>\n  </tbody>\n</table>\n</div>"
     },
     "execution_count": 18,
     "metadata": {},
     "output_type": "execute_result"
    }
   ],
   "source": [
    "## 把email设置为index索引列 df.set_index('email')\n",
    "df.set_index('email')"
   ]
  },
  {
   "cell_type": "code",
   "execution_count": 19,
   "id": "02ef5ed5",
   "metadata": {
    "pycharm": {
     "name": "#%%\n"
    }
   },
   "outputs": [],
   "source": [
    "##  df.set_index('email')不会修改原来的dataframe，需要明确设置\n",
    "df.set_index('email',inplace=True)"
   ]
  },
  {
   "cell_type": "code",
   "execution_count": 20,
   "id": "b35f0ffd",
   "metadata": {
    "pycharm": {
     "name": "#%%\n"
    }
   },
   "outputs": [
    {
     "data": {
      "text/plain": "                         first     last\nemail                                  \nCoreyMSchafer@gmail.com  Corey  Schafer\nJaneDoe@gmail.com         Jane      Doe\nJohnDoe@gamil.com         John      Doe",
      "text/html": "<div>\n<style scoped>\n    .dataframe tbody tr th:only-of-type {\n        vertical-align: middle;\n    }\n\n    .dataframe tbody tr th {\n        vertical-align: top;\n    }\n\n    .dataframe thead th {\n        text-align: right;\n    }\n</style>\n<table border=\"1\" class=\"dataframe\">\n  <thead>\n    <tr style=\"text-align: right;\">\n      <th></th>\n      <th>first</th>\n      <th>last</th>\n    </tr>\n    <tr>\n      <th>email</th>\n      <th></th>\n      <th></th>\n    </tr>\n  </thead>\n  <tbody>\n    <tr>\n      <th>CoreyMSchafer@gmail.com</th>\n      <td>Corey</td>\n      <td>Schafer</td>\n    </tr>\n    <tr>\n      <th>JaneDoe@gmail.com</th>\n      <td>Jane</td>\n      <td>Doe</td>\n    </tr>\n    <tr>\n      <th>JohnDoe@gamil.com</th>\n      <td>John</td>\n      <td>Doe</td>\n    </tr>\n  </tbody>\n</table>\n</div>"
     },
     "execution_count": 20,
     "metadata": {},
     "output_type": "execute_result"
    }
   ],
   "source": [
    "df"
   ]
  },
  {
   "cell_type": "code",
   "execution_count": 21,
   "id": "1a985e23",
   "metadata": {
    "pycharm": {
     "name": "#%%\n"
    }
   },
   "outputs": [
    {
     "data": {
      "text/plain": "Index(['CoreyMSchafer@gmail.com', 'JaneDoe@gmail.com', 'JohnDoe@gamil.com'], dtype='object', name='email')"
     },
     "execution_count": 21,
     "metadata": {},
     "output_type": "execute_result"
    }
   ],
   "source": [
    "df.index"
   ]
  },
  {
   "cell_type": "code",
   "execution_count": 22,
   "id": "ee90f771",
   "metadata": {
    "pycharm": {
     "name": "#%%\n"
    }
   },
   "outputs": [
    {
     "data": {
      "text/plain": "'Schafer'"
     },
     "execution_count": 22,
     "metadata": {},
     "output_type": "execute_result"
    }
   ],
   "source": [
    "## 设置索引后，可以通过索引获取行信息df.loc['CoreyMSchafer@gmail.com']\n",
    "## 通过索引，和列名获取某个值df.loc['CoreyMSchafer@gmail.com','last']\n",
    "df.loc['CoreyMSchafer@gmail.com','last']"
   ]
  },
  {
   "cell_type": "code",
   "execution_count": 23,
   "id": "86e1a746",
   "metadata": {
    "pycharm": {
     "name": "#%%\n"
    }
   },
   "outputs": [
    {
     "data": {
      "text/plain": "first      Corey\nlast     Schafer\nName: CoreyMSchafer@gmail.com, dtype: object"
     },
     "execution_count": 23,
     "metadata": {},
     "output_type": "execute_result"
    }
   ],
   "source": [
    "## 索引已经被设置为email了，所以之前使用默认的序列号索引会报错 df.loc[0]\n",
    "## 所以想继续使用序列号获取行，使用函数 df.iloc[0]\n",
    "df.iloc[0]"
   ]
  },
  {
   "cell_type": "code",
   "execution_count": 24,
   "id": "cd22d548",
   "metadata": {
    "pycharm": {
     "name": "#%%\n"
    }
   },
   "outputs": [],
   "source": [
    "## 重置索引为默认的序列号\n",
    "df.reset_index(inplace=True)"
   ]
  },
  {
   "cell_type": "code",
   "execution_count": 25,
   "id": "b2496a15",
   "metadata": {
    "pycharm": {
     "name": "#%%\n"
    }
   },
   "outputs": [
    {
     "data": {
      "text/plain": "                     email  first     last\n0  CoreyMSchafer@gmail.com  Corey  Schafer\n1        JaneDoe@gmail.com   Jane      Doe\n2        JohnDoe@gamil.com   John      Doe",
      "text/html": "<div>\n<style scoped>\n    .dataframe tbody tr th:only-of-type {\n        vertical-align: middle;\n    }\n\n    .dataframe tbody tr th {\n        vertical-align: top;\n    }\n\n    .dataframe thead th {\n        text-align: right;\n    }\n</style>\n<table border=\"1\" class=\"dataframe\">\n  <thead>\n    <tr style=\"text-align: right;\">\n      <th></th>\n      <th>email</th>\n      <th>first</th>\n      <th>last</th>\n    </tr>\n  </thead>\n  <tbody>\n    <tr>\n      <th>0</th>\n      <td>CoreyMSchafer@gmail.com</td>\n      <td>Corey</td>\n      <td>Schafer</td>\n    </tr>\n    <tr>\n      <th>1</th>\n      <td>JaneDoe@gmail.com</td>\n      <td>Jane</td>\n      <td>Doe</td>\n    </tr>\n    <tr>\n      <th>2</th>\n      <td>JohnDoe@gamil.com</td>\n      <td>John</td>\n      <td>Doe</td>\n    </tr>\n  </tbody>\n</table>\n</div>"
     },
     "execution_count": 25,
     "metadata": {},
     "output_type": "execute_result"
    }
   ],
   "source": [
    "df"
   ]
  },
  {
   "cell_type": "code",
   "execution_count": 26,
   "id": "6beb97b3",
   "metadata": {
    "pycharm": {
     "name": "#%%\n"
    }
   },
   "outputs": [],
   "source": [
    "## python清屏：\n",
    "## import os \n",
    "## os.system(\"clear\")"
   ]
  },
  {
   "cell_type": "code",
   "execution_count": 27,
   "id": "cd1d87fe",
   "metadata": {
    "pycharm": {
     "name": "#%%\n"
    }
   },
   "outputs": [],
   "source": [
    "## filter mask 创建一个过滤条件\n",
    "## filt = (df['last'] == 'Doe') & (df['first'] == 'John')\n",
    "filt = (df['last'] == 'Schafer') | (df['first'] == 'John')"
   ]
  },
  {
   "cell_type": "code",
   "execution_count": 28,
   "id": "b73f1a78",
   "metadata": {
    "pycharm": {
     "name": "#%%\n"
    }
   },
   "outputs": [
    {
     "data": {
      "text/plain": "                     email  first     last\n0  CoreyMSchafer@gmail.com  Corey  Schafer\n2        JohnDoe@gamil.com   John      Doe",
      "text/html": "<div>\n<style scoped>\n    .dataframe tbody tr th:only-of-type {\n        vertical-align: middle;\n    }\n\n    .dataframe tbody tr th {\n        vertical-align: top;\n    }\n\n    .dataframe thead th {\n        text-align: right;\n    }\n</style>\n<table border=\"1\" class=\"dataframe\">\n  <thead>\n    <tr style=\"text-align: right;\">\n      <th></th>\n      <th>email</th>\n      <th>first</th>\n      <th>last</th>\n    </tr>\n  </thead>\n  <tbody>\n    <tr>\n      <th>0</th>\n      <td>CoreyMSchafer@gmail.com</td>\n      <td>Corey</td>\n      <td>Schafer</td>\n    </tr>\n    <tr>\n      <th>2</th>\n      <td>JohnDoe@gamil.com</td>\n      <td>John</td>\n      <td>Doe</td>\n    </tr>\n  </tbody>\n</table>\n</div>"
     },
     "execution_count": 28,
     "metadata": {},
     "output_type": "execute_result"
    }
   ],
   "source": [
    "## 过滤出数据：df[filt] or df[df['last'] == 'Doe'] or df.loc[filt]\n",
    "df[filt]"
   ]
  },
  {
   "cell_type": "code",
   "execution_count": 29,
   "id": "8ee438c0",
   "metadata": {
    "pycharm": {
     "name": "#%%\n"
    }
   },
   "outputs": [
    {
     "data": {
      "text/plain": "1    JaneDoe@gmail.com\nName: email, dtype: object"
     },
     "execution_count": 29,
     "metadata": {},
     "output_type": "execute_result"
    }
   ],
   "source": [
    "## 过滤出数据，df.loc[filt] or 在过滤后的数据中获取某指定列\n",
    "## -filt: filt取否定\n",
    "df.loc[-filt,'email']"
   ]
  },
  {
   "cell_type": "code",
   "execution_count": 30,
   "outputs": [
    {
     "data": {
      "text/plain": "                     EMAIL  FIRST     LAST\n0  CoreyMSchafer@gmail.com  Corey  Schafer\n1        JaneDoe@gmail.com   Jane      Doe\n2        JohnDoe@gamil.com   John      Doe",
      "text/html": "<div>\n<style scoped>\n    .dataframe tbody tr th:only-of-type {\n        vertical-align: middle;\n    }\n\n    .dataframe tbody tr th {\n        vertical-align: top;\n    }\n\n    .dataframe thead th {\n        text-align: right;\n    }\n</style>\n<table border=\"1\" class=\"dataframe\">\n  <thead>\n    <tr style=\"text-align: right;\">\n      <th></th>\n      <th>EMAIL</th>\n      <th>FIRST</th>\n      <th>LAST</th>\n    </tr>\n  </thead>\n  <tbody>\n    <tr>\n      <th>0</th>\n      <td>CoreyMSchafer@gmail.com</td>\n      <td>Corey</td>\n      <td>Schafer</td>\n    </tr>\n    <tr>\n      <th>1</th>\n      <td>JaneDoe@gmail.com</td>\n      <td>Jane</td>\n      <td>Doe</td>\n    </tr>\n    <tr>\n      <th>2</th>\n      <td>JohnDoe@gamil.com</td>\n      <td>John</td>\n      <td>Doe</td>\n    </tr>\n  </tbody>\n</table>\n</div>"
     },
     "execution_count": 30,
     "metadata": {},
     "output_type": "execute_result"
    }
   ],
   "source": [
    "## 更新第一行数据数据为大写\n",
    "df.columns = [x.upper() for x in df.columns]\n",
    "df"
   ],
   "metadata": {
    "collapsed": false,
    "pycharm": {
     "name": "#%%\n"
    }
   }
  },
  {
   "cell_type": "code",
   "execution_count": null,
   "outputs": [],
   "source": [],
   "metadata": {
    "collapsed": false,
    "pycharm": {
     "name": "#%%\n"
    }
   }
  },
  {
   "cell_type": "code",
   "execution_count": 31,
   "outputs": [
    {
     "data": {
      "text/plain": "                     EMAIL  FIRSt     LASt\n0  CoreyMSchafer@gmail.com  Corey  Schafer\n1        JaneDoe@gmail.com   Jane      Doe\n2        JohnDoe@gamil.com   John      Doe",
      "text/html": "<div>\n<style scoped>\n    .dataframe tbody tr th:only-of-type {\n        vertical-align: middle;\n    }\n\n    .dataframe tbody tr th {\n        vertical-align: top;\n    }\n\n    .dataframe thead th {\n        text-align: right;\n    }\n</style>\n<table border=\"1\" class=\"dataframe\">\n  <thead>\n    <tr style=\"text-align: right;\">\n      <th></th>\n      <th>EMAIL</th>\n      <th>FIRSt</th>\n      <th>LASt</th>\n    </tr>\n  </thead>\n  <tbody>\n    <tr>\n      <th>0</th>\n      <td>CoreyMSchafer@gmail.com</td>\n      <td>Corey</td>\n      <td>Schafer</td>\n    </tr>\n    <tr>\n      <th>1</th>\n      <td>JaneDoe@gmail.com</td>\n      <td>Jane</td>\n      <td>Doe</td>\n    </tr>\n    <tr>\n      <th>2</th>\n      <td>JohnDoe@gamil.com</td>\n      <td>John</td>\n      <td>Doe</td>\n    </tr>\n  </tbody>\n</table>\n</div>"
     },
     "execution_count": 31,
     "metadata": {},
     "output_type": "execute_result"
    }
   ],
   "source": [
    "## 替换第一行的大写T为t\n",
    "df.columns = df.columns.str.replace('T','t')\n",
    "df"
   ],
   "metadata": {
    "collapsed": false,
    "pycharm": {
     "name": "#%%\n"
    }
   }
  },
  {
   "cell_type": "code",
   "execution_count": null,
   "outputs": [],
   "source": [],
   "metadata": {
    "collapsed": false,
    "pycharm": {
     "name": "#%%\n"
    }
   }
  }
 ],
 "metadata": {
  "kernelspec": {
   "display_name": "Python 3 (ipykernel)",
   "language": "python",
   "name": "python3"
  },
  "language_info": {
   "codemirror_mode": {
    "name": "ipython",
    "version": 3
   },
   "file_extension": ".py",
   "mimetype": "text/x-python",
   "name": "python",
   "nbconvert_exporter": "python",
   "pygments_lexer": "ipython3",
   "version": "3.8.9"
  }
 },
 "nbformat": 4,
 "nbformat_minor": 5
}