{
 "cells": [
  {
   "cell_type": "code",
   "execution_count": 1,
   "id": "e55b91a5",
   "metadata": {
    "pycharm": {
     "name": "#%%\n"
    }
   },
   "outputs": [],
   "source": [
    "import pandas as pd"
   ]
  },
  {
   "cell_type": "code",
   "execution_count": 2,
   "id": "7157c4c1",
   "metadata": {
    "pycharm": {
     "name": "#%%\n"
    }
   },
   "outputs": [],
   "source": [
    "df = pd.read_csv('data2/survey_results_public.csv',index_col='Respondent')\n",
    "schema_df = pd.read_csv('data2/survey_results_schema.csv',index_col='Column')"
   ]
  },
  {
   "cell_type": "code",
   "execution_count": 3,
   "id": "f128e0ae",
   "metadata": {
    "pycharm": {
     "name": "#%%\n"
    }
   },
   "outputs": [],
   "source": [
    "pd.set_option('display.max_columns',85)\n",
    "pd.set_option('display.max_rows',85)"
   ]
  },
  {
   "cell_type": "code",
   "execution_count": 4,
   "id": "30a9a534",
   "metadata": {
    "pycharm": {
     "name": "#%%\n"
    }
   },
   "outputs": [
    {
     "data": {
      "text/plain": "                                        MainBranch Hobbyist OpenSourcer  \\\nRespondent                                                                \n1           I am a student who is learning to code      Yes       Never   \n\n                                                   OpenSource  \\\nRespondent                                                      \n1           The quality of OSS and closed source software ...   \n\n                                        Employment         Country Student  \\\nRespondent                                                                   \n1           Not employed, and not looking for work  United Kingdom      No   \n\n                              EdLevel UndergradMajor  \\\nRespondent                                             \n1           Primary/elementary school            NaN   \n\n                                                     EduOther OrgSize DevType  \\\nRespondent                                                                      \n1           Taught yourself a new language, framework, or ...     NaN     NaN   \n\n           YearsCode Age1stCode YearsCodePro CareerSat JobSat MgrIdiot  \\\nRespondent                                                               \n1                  4         10          NaN       NaN    NaN      NaN   \n\n           MgrMoney MgrWant JobSeek LastHireDate LastInt FizzBuzz JobFactors  \\\nRespondent                                                                     \n1               NaN     NaN     NaN          NaN     NaN      NaN        NaN   \n\n           ResumeUpdate CurrencySymbol CurrencyDesc  CompTotal CompFreq  \\\nRespondent                                                                \n1                   NaN            NaN          NaN        NaN      NaN   \n\n            ConvertedComp  WorkWeekHrs WorkPlan WorkChallenge WorkRemote  \\\nRespondent                                                                 \n1                     NaN          NaN      NaN           NaN        NaN   \n\n           WorkLoc ImpSyn CodeRev  CodeRevHrs UnitTests PurchaseHow  \\\nRespondent                                                            \n1              NaN    NaN     NaN         NaN       NaN         NaN   \n\n           PurchaseWhat               LanguageWorkedWith  \\\nRespondent                                                 \n1                   NaN  HTML/CSS;Java;JavaScript;Python   \n\n                                     LanguageDesireNextYear  \\\nRespondent                                                    \n1           C;C++;C#;Go;HTML/CSS;Java;JavaScript;Python;SQL   \n\n           DatabaseWorkedWith DatabaseDesireNextYear PlatformWorkedWith  \\\nRespondent                                                                \n1                      SQLite                  MySQL      MacOS;Windows   \n\n             PlatformDesireNextYear WebFrameWorkedWith WebFrameDesireNextYear  \\\nRespondent                                                                      \n1           Android;Arduino;Windows       Django;Flask           Flask;jQuery   \n\n           MiscTechWorkedWith MiscTechDesireNextYear  \\\nRespondent                                             \n1                     Node.js                Node.js   \n\n                            DevEnviron    OpSys               Containers  \\\nRespondent                                                                 \n1           IntelliJ;Notepad++;PyCharm  Windows  I do not use containers   \n\n           BlockchainOrg BlockchainIs BetterLife  \\\nRespondent                                         \n1                    NaN          NaN        Yes   \n\n                                            ITperson OffOn SocialMedia  \\\nRespondent                                                               \n1           Fortunately, someone else has that title   Yes     Twitter   \n\n           Extraversion ScreenName SOVisit1st  \\\nRespondent                                      \n1                Online   Username       2017   \n\n                                SOVisitFreq  \\\nRespondent                                    \n1           A few times per month or weekly   \n\n                                                    SOVisitTo  \\\nRespondent                                                      \n1           Find answers to specific questions;Learn how t...   \n\n                  SOFindAnswer                     SOTimeSaved  SOHowMuchTime  \\\nRespondent                                                                      \n1           3-5 times per week  Stack Overflow was much faster  31-60 minutes   \n\n           SOAccount SOPartFreq  \\\nRespondent                        \n1                 No        NaN   \n\n                                                       SOJobs  \\\nRespondent                                                      \n1           No, I didn't know that Stack Overflow had a jo...   \n\n                                       EntTeams   SOComm  \\\nRespondent                                                 \n1           No, and I don't know what those are  Neutral   \n\n                                      WelcomeChange  \\\nRespondent                                            \n1           Just as welcome now as I felt last year   \n\n                                                 SONewContent   Age Gender  \\\nRespondent                                                                   \n1           Tech articles written by other developers;Indu...  14.0    Man   \n\n           Trans                Sexuality Ethnicity Dependents  \\\nRespondent                                                       \n1             No  Straight / Heterosexual       NaN         No   \n\n                     SurveyLength                  SurveyEase  \nRespondent                                                     \n1           Appropriate in length  Neither easy nor difficult  ",
      "text/html": "<div>\n<style scoped>\n    .dataframe tbody tr th:only-of-type {\n        vertical-align: middle;\n    }\n\n    .dataframe tbody tr th {\n        vertical-align: top;\n    }\n\n    .dataframe thead th {\n        text-align: right;\n    }\n</style>\n<table border=\"1\" class=\"dataframe\">\n  <thead>\n    <tr style=\"text-align: right;\">\n      <th></th>\n      <th>MainBranch</th>\n      <th>Hobbyist</th>\n      <th>OpenSourcer</th>\n      <th>OpenSource</th>\n      <th>Employment</th>\n      <th>Country</th>\n      <th>Student</th>\n      <th>EdLevel</th>\n      <th>UndergradMajor</th>\n      <th>EduOther</th>\n      <th>OrgSize</th>\n      <th>DevType</th>\n      <th>YearsCode</th>\n      <th>Age1stCode</th>\n      <th>YearsCodePro</th>\n      <th>CareerSat</th>\n      <th>JobSat</th>\n      <th>MgrIdiot</th>\n      <th>MgrMoney</th>\n      <th>MgrWant</th>\n      <th>JobSeek</th>\n      <th>LastHireDate</th>\n      <th>LastInt</th>\n      <th>FizzBuzz</th>\n      <th>JobFactors</th>\n      <th>ResumeUpdate</th>\n      <th>CurrencySymbol</th>\n      <th>CurrencyDesc</th>\n      <th>CompTotal</th>\n      <th>CompFreq</th>\n      <th>ConvertedComp</th>\n      <th>WorkWeekHrs</th>\n      <th>WorkPlan</th>\n      <th>WorkChallenge</th>\n      <th>WorkRemote</th>\n      <th>WorkLoc</th>\n      <th>ImpSyn</th>\n      <th>CodeRev</th>\n      <th>CodeRevHrs</th>\n      <th>UnitTests</th>\n      <th>PurchaseHow</th>\n      <th>PurchaseWhat</th>\n      <th>LanguageWorkedWith</th>\n      <th>LanguageDesireNextYear</th>\n      <th>DatabaseWorkedWith</th>\n      <th>DatabaseDesireNextYear</th>\n      <th>PlatformWorkedWith</th>\n      <th>PlatformDesireNextYear</th>\n      <th>WebFrameWorkedWith</th>\n      <th>WebFrameDesireNextYear</th>\n      <th>MiscTechWorkedWith</th>\n      <th>MiscTechDesireNextYear</th>\n      <th>DevEnviron</th>\n      <th>OpSys</th>\n      <th>Containers</th>\n      <th>BlockchainOrg</th>\n      <th>BlockchainIs</th>\n      <th>BetterLife</th>\n      <th>ITperson</th>\n      <th>OffOn</th>\n      <th>SocialMedia</th>\n      <th>Extraversion</th>\n      <th>ScreenName</th>\n      <th>SOVisit1st</th>\n      <th>SOVisitFreq</th>\n      <th>SOVisitTo</th>\n      <th>SOFindAnswer</th>\n      <th>SOTimeSaved</th>\n      <th>SOHowMuchTime</th>\n      <th>SOAccount</th>\n      <th>SOPartFreq</th>\n      <th>SOJobs</th>\n      <th>EntTeams</th>\n      <th>SOComm</th>\n      <th>WelcomeChange</th>\n      <th>SONewContent</th>\n      <th>Age</th>\n      <th>Gender</th>\n      <th>Trans</th>\n      <th>Sexuality</th>\n      <th>Ethnicity</th>\n      <th>Dependents</th>\n      <th>SurveyLength</th>\n      <th>SurveyEase</th>\n    </tr>\n    <tr>\n      <th>Respondent</th>\n      <th></th>\n      <th></th>\n      <th></th>\n      <th></th>\n      <th></th>\n      <th></th>\n      <th></th>\n      <th></th>\n      <th></th>\n      <th></th>\n      <th></th>\n      <th></th>\n      <th></th>\n      <th></th>\n      <th></th>\n      <th></th>\n      <th></th>\n      <th></th>\n      <th></th>\n      <th></th>\n      <th></th>\n      <th></th>\n      <th></th>\n      <th></th>\n      <th></th>\n      <th></th>\n      <th></th>\n      <th></th>\n      <th></th>\n      <th></th>\n      <th></th>\n      <th></th>\n      <th></th>\n      <th></th>\n      <th></th>\n      <th></th>\n      <th></th>\n      <th></th>\n      <th></th>\n      <th></th>\n      <th></th>\n      <th></th>\n      <th></th>\n      <th></th>\n      <th></th>\n      <th></th>\n      <th></th>\n      <th></th>\n      <th></th>\n      <th></th>\n      <th></th>\n      <th></th>\n      <th></th>\n      <th></th>\n      <th></th>\n      <th></th>\n      <th></th>\n      <th></th>\n      <th></th>\n      <th></th>\n      <th></th>\n      <th></th>\n      <th></th>\n      <th></th>\n      <th></th>\n      <th></th>\n      <th></th>\n      <th></th>\n      <th></th>\n      <th></th>\n      <th></th>\n      <th></th>\n      <th></th>\n      <th></th>\n      <th></th>\n      <th></th>\n      <th></th>\n      <th></th>\n      <th></th>\n      <th></th>\n      <th></th>\n      <th></th>\n      <th></th>\n      <th></th>\n    </tr>\n  </thead>\n  <tbody>\n    <tr>\n      <th>1</th>\n      <td>I am a student who is learning to code</td>\n      <td>Yes</td>\n      <td>Never</td>\n      <td>The quality of OSS and closed source software ...</td>\n      <td>Not employed, and not looking for work</td>\n      <td>United Kingdom</td>\n      <td>No</td>\n      <td>Primary/elementary school</td>\n      <td>NaN</td>\n      <td>Taught yourself a new language, framework, or ...</td>\n      <td>NaN</td>\n      <td>NaN</td>\n      <td>4</td>\n      <td>10</td>\n      <td>NaN</td>\n      <td>NaN</td>\n      <td>NaN</td>\n      <td>NaN</td>\n      <td>NaN</td>\n      <td>NaN</td>\n      <td>NaN</td>\n      <td>NaN</td>\n      <td>NaN</td>\n      <td>NaN</td>\n      <td>NaN</td>\n      <td>NaN</td>\n      <td>NaN</td>\n      <td>NaN</td>\n      <td>NaN</td>\n      <td>NaN</td>\n      <td>NaN</td>\n      <td>NaN</td>\n      <td>NaN</td>\n      <td>NaN</td>\n      <td>NaN</td>\n      <td>NaN</td>\n      <td>NaN</td>\n      <td>NaN</td>\n      <td>NaN</td>\n      <td>NaN</td>\n      <td>NaN</td>\n      <td>NaN</td>\n      <td>HTML/CSS;Java;JavaScript;Python</td>\n      <td>C;C++;C#;Go;HTML/CSS;Java;JavaScript;Python;SQL</td>\n      <td>SQLite</td>\n      <td>MySQL</td>\n      <td>MacOS;Windows</td>\n      <td>Android;Arduino;Windows</td>\n      <td>Django;Flask</td>\n      <td>Flask;jQuery</td>\n      <td>Node.js</td>\n      <td>Node.js</td>\n      <td>IntelliJ;Notepad++;PyCharm</td>\n      <td>Windows</td>\n      <td>I do not use containers</td>\n      <td>NaN</td>\n      <td>NaN</td>\n      <td>Yes</td>\n      <td>Fortunately, someone else has that title</td>\n      <td>Yes</td>\n      <td>Twitter</td>\n      <td>Online</td>\n      <td>Username</td>\n      <td>2017</td>\n      <td>A few times per month or weekly</td>\n      <td>Find answers to specific questions;Learn how t...</td>\n      <td>3-5 times per week</td>\n      <td>Stack Overflow was much faster</td>\n      <td>31-60 minutes</td>\n      <td>No</td>\n      <td>NaN</td>\n      <td>No, I didn't know that Stack Overflow had a jo...</td>\n      <td>No, and I don't know what those are</td>\n      <td>Neutral</td>\n      <td>Just as welcome now as I felt last year</td>\n      <td>Tech articles written by other developers;Indu...</td>\n      <td>14.0</td>\n      <td>Man</td>\n      <td>No</td>\n      <td>Straight / Heterosexual</td>\n      <td>NaN</td>\n      <td>No</td>\n      <td>Appropriate in length</td>\n      <td>Neither easy nor difficult</td>\n    </tr>\n  </tbody>\n</table>\n</div>"
     },
     "execution_count": 4,
     "metadata": {},
     "output_type": "execute_result"
    }
   ],
   "source": [
    "df.head(1)"
   ]
  },
  {
   "cell_type": "code",
   "execution_count": 5,
   "id": "5604e1d9",
   "metadata": {
    "pycharm": {
     "name": "#%%\n"
    }
   },
   "outputs": [
    {
     "data": {
      "text/plain": "                                                             QuestionText\nColumn                                                                   \nRespondent              Randomized respondent ID number (not in order ...\nMainBranch              Which of the following options best describes ...\nHobbyist                                          Do you code as a hobby?\nOpenSourcer                   How often do you contribute to open source?\nOpenSource              How do you feel about the quality of open sour...\nEmployment              Which of the following best describes your cur...\nCountry                         In which country do you currently reside?\nStudent                 Are you currently enrolled in a formal, degree...\nEdLevel                 Which of the following best describes the high...\nUndergradMajor          What was your main or most important field of ...\nEduOther                Which of the following types of non-degree edu...\nOrgSize                 Approximately how many people are employed by ...\nDevType                 Which of the following describe you? Please se...\nYearsCode               Including any education, how many years have y...\nAge1stCode              At what age did you write your first line of c...\nYearsCodePro            How many years have you coded professionally (...\nCareerSat               Overall, how satisfied are you with your caree...\nJobSat                  How satisfied are you with your current job? (...\nMgrIdiot                How confident are you that your manager knows ...\nMgrMoney                Do you believe that you need to be a manager t...\nMgrWant                 Do you want to become a manager yourself in th...\nJobSeek                 Which of the following best describes your cur...\nLastHireDate            When was the last time that you took a job wit...\nLastInt                 In your most recent successful job interview (...\nFizzBuzz                Have you ever been asked to solve FizzBuzz in ...\nJobFactors              Imagine that you are deciding between two job ...\nResumeUpdate            Think back to the last time you updated your r...\nCurrencySymbol          Which currency do you use day-to-day? If your ...\nCurrencyDesc            Which currency do you use day-to-day? If your ...\nCompTotal               What is your current total compensation (salar...\nCompFreq                 Is that compensation weekly, monthly, or yearly?\nConvertedComp           Salary converted to annual USD salaries using ...\nWorkWeekHrs              On average, how many hours per week do you work?\nWorkPlan                          How structured or planned is your work?\nWorkChallenge           Of these options, what are your greatest chall...\nWorkRemote                                How often do you work remotely?\nWorkLoc                                   Where would you prefer to work?\nImpSyn                  For the specific work you do, and the years of...\nCodeRev                          Do you review code as part of your work?\nCodeRevHrs              On average, how many hours per week do you spe...\nUnitTests               Does your company regularly employ unit tests ...\nPurchaseHow             How does your company make decisions about pur...\nPurchaseWhat            What level of influence do you, personally, ha...\nLanguageWorkedWith      Which of the following programming, scripting,...\nLanguageDesireNextYear  Which of the following programming, scripting,...\nDatabaseWorkedWith      Which of the following database environments h...\nDatabaseDesireNextYear  Which of the following database environments h...\nPlatformWorkedWith      Which of the following platforms have you done...\nPlatformDesireNextYear  Which of the following platforms have you done...\nWebFrameWorkedWith      Which of the following web frameworks have you...\nWebFrameDesireNextYear  Which of the following web frameworks have you...\nMiscTechWorkedWith      Which of the following other frameworks, libra...\nMiscTechDesireNextYear  Which of the following other frameworks, libra...\nDevEnviron              Which development environment(s) do you use re...\nOpSys                   What is the primary operating system in which ...\nContainers              How do you use containers (Docker, Open Contai...\nBlockchainOrg           How is your organization thinking about or imp...\nBlockchainIs            Blockchain / cryptocurrency technology is prim...\nBetterLife              Do you think people born today will have a bet...\nITperson                 Are you the \"IT support person\" for your family?\nOffOn                         Have you tried turning it off and on again?\nSocialMedia                   What social media site do you use the most?\nExtraversion              Do you prefer online chat or IRL conversations?\nScreenName                                           What do you call it?\nSOVisit1st              To the best of your memory, when did you first...\nSOVisitFreq             How frequently would you say you visit Stack O...\nSOVisitTo               I visit Stack Overflow to... (check all that a...\nSOFindAnswer            On average, how many times a week do you find ...\nSOTimeSaved             Think back to the last time you solved a codin...\nSOHowMuchTime           About how much time did you save? If you're no...\nSOAccount                           Do you have a Stack Overflow account?\nSOPartFreq              How frequently would you say you participate i...\nSOJobs                  Have you ever used or visited Stack Overflow J...\nEntTeams                Have you ever used Stack Overflow for Enterpri...\nSOComm                  Do you consider yourself a member of the Stack...\nWelcomeChange           Compared to last year, how welcome do you feel...\nSONewContent            Would you like to see any of the following on ...\nAge                     What is your age (in years)? If you prefer not...\nGender                  Which of the following do you currently identi...\nTrans                                     Do you identify as transgender?\nSexuality               Which of the following do you currently identi...\nEthnicity               Which of the following do you identify as? Ple...\nDependents              Do you have any dependents (e.g., children, el...\nSurveyLength            How do you feel about the length of the survey...\nSurveyEase              How easy or difficult was this survey to compl...",
      "text/html": "<div>\n<style scoped>\n    .dataframe tbody tr th:only-of-type {\n        vertical-align: middle;\n    }\n\n    .dataframe tbody tr th {\n        vertical-align: top;\n    }\n\n    .dataframe thead th {\n        text-align: right;\n    }\n</style>\n<table border=\"1\" class=\"dataframe\">\n  <thead>\n    <tr style=\"text-align: right;\">\n      <th></th>\n      <th>QuestionText</th>\n    </tr>\n    <tr>\n      <th>Column</th>\n      <th></th>\n    </tr>\n  </thead>\n  <tbody>\n    <tr>\n      <th>Respondent</th>\n      <td>Randomized respondent ID number (not in order ...</td>\n    </tr>\n    <tr>\n      <th>MainBranch</th>\n      <td>Which of the following options best describes ...</td>\n    </tr>\n    <tr>\n      <th>Hobbyist</th>\n      <td>Do you code as a hobby?</td>\n    </tr>\n    <tr>\n      <th>OpenSourcer</th>\n      <td>How often do you contribute to open source?</td>\n    </tr>\n    <tr>\n      <th>OpenSource</th>\n      <td>How do you feel about the quality of open sour...</td>\n    </tr>\n    <tr>\n      <th>Employment</th>\n      <td>Which of the following best describes your cur...</td>\n    </tr>\n    <tr>\n      <th>Country</th>\n      <td>In which country do you currently reside?</td>\n    </tr>\n    <tr>\n      <th>Student</th>\n      <td>Are you currently enrolled in a formal, degree...</td>\n    </tr>\n    <tr>\n      <th>EdLevel</th>\n      <td>Which of the following best describes the high...</td>\n    </tr>\n    <tr>\n      <th>UndergradMajor</th>\n      <td>What was your main or most important field of ...</td>\n    </tr>\n    <tr>\n      <th>EduOther</th>\n      <td>Which of the following types of non-degree edu...</td>\n    </tr>\n    <tr>\n      <th>OrgSize</th>\n      <td>Approximately how many people are employed by ...</td>\n    </tr>\n    <tr>\n      <th>DevType</th>\n      <td>Which of the following describe you? Please se...</td>\n    </tr>\n    <tr>\n      <th>YearsCode</th>\n      <td>Including any education, how many years have y...</td>\n    </tr>\n    <tr>\n      <th>Age1stCode</th>\n      <td>At what age did you write your first line of c...</td>\n    </tr>\n    <tr>\n      <th>YearsCodePro</th>\n      <td>How many years have you coded professionally (...</td>\n    </tr>\n    <tr>\n      <th>CareerSat</th>\n      <td>Overall, how satisfied are you with your caree...</td>\n    </tr>\n    <tr>\n      <th>JobSat</th>\n      <td>How satisfied are you with your current job? (...</td>\n    </tr>\n    <tr>\n      <th>MgrIdiot</th>\n      <td>How confident are you that your manager knows ...</td>\n    </tr>\n    <tr>\n      <th>MgrMoney</th>\n      <td>Do you believe that you need to be a manager t...</td>\n    </tr>\n    <tr>\n      <th>MgrWant</th>\n      <td>Do you want to become a manager yourself in th...</td>\n    </tr>\n    <tr>\n      <th>JobSeek</th>\n      <td>Which of the following best describes your cur...</td>\n    </tr>\n    <tr>\n      <th>LastHireDate</th>\n      <td>When was the last time that you took a job wit...</td>\n    </tr>\n    <tr>\n      <th>LastInt</th>\n      <td>In your most recent successful job interview (...</td>\n    </tr>\n    <tr>\n      <th>FizzBuzz</th>\n      <td>Have you ever been asked to solve FizzBuzz in ...</td>\n    </tr>\n    <tr>\n      <th>JobFactors</th>\n      <td>Imagine that you are deciding between two job ...</td>\n    </tr>\n    <tr>\n      <th>ResumeUpdate</th>\n      <td>Think back to the last time you updated your r...</td>\n    </tr>\n    <tr>\n      <th>CurrencySymbol</th>\n      <td>Which currency do you use day-to-day? If your ...</td>\n    </tr>\n    <tr>\n      <th>CurrencyDesc</th>\n      <td>Which currency do you use day-to-day? If your ...</td>\n    </tr>\n    <tr>\n      <th>CompTotal</th>\n      <td>What is your current total compensation (salar...</td>\n    </tr>\n    <tr>\n      <th>CompFreq</th>\n      <td>Is that compensation weekly, monthly, or yearly?</td>\n    </tr>\n    <tr>\n      <th>ConvertedComp</th>\n      <td>Salary converted to annual USD salaries using ...</td>\n    </tr>\n    <tr>\n      <th>WorkWeekHrs</th>\n      <td>On average, how many hours per week do you work?</td>\n    </tr>\n    <tr>\n      <th>WorkPlan</th>\n      <td>How structured or planned is your work?</td>\n    </tr>\n    <tr>\n      <th>WorkChallenge</th>\n      <td>Of these options, what are your greatest chall...</td>\n    </tr>\n    <tr>\n      <th>WorkRemote</th>\n      <td>How often do you work remotely?</td>\n    </tr>\n    <tr>\n      <th>WorkLoc</th>\n      <td>Where would you prefer to work?</td>\n    </tr>\n    <tr>\n      <th>ImpSyn</th>\n      <td>For the specific work you do, and the years of...</td>\n    </tr>\n    <tr>\n      <th>CodeRev</th>\n      <td>Do you review code as part of your work?</td>\n    </tr>\n    <tr>\n      <th>CodeRevHrs</th>\n      <td>On average, how many hours per week do you spe...</td>\n    </tr>\n    <tr>\n      <th>UnitTests</th>\n      <td>Does your company regularly employ unit tests ...</td>\n    </tr>\n    <tr>\n      <th>PurchaseHow</th>\n      <td>How does your company make decisions about pur...</td>\n    </tr>\n    <tr>\n      <th>PurchaseWhat</th>\n      <td>What level of influence do you, personally, ha...</td>\n    </tr>\n    <tr>\n      <th>LanguageWorkedWith</th>\n      <td>Which of the following programming, scripting,...</td>\n    </tr>\n    <tr>\n      <th>LanguageDesireNextYear</th>\n      <td>Which of the following programming, scripting,...</td>\n    </tr>\n    <tr>\n      <th>DatabaseWorkedWith</th>\n      <td>Which of the following database environments h...</td>\n    </tr>\n    <tr>\n      <th>DatabaseDesireNextYear</th>\n      <td>Which of the following database environments h...</td>\n    </tr>\n    <tr>\n      <th>PlatformWorkedWith</th>\n      <td>Which of the following platforms have you done...</td>\n    </tr>\n    <tr>\n      <th>PlatformDesireNextYear</th>\n      <td>Which of the following platforms have you done...</td>\n    </tr>\n    <tr>\n      <th>WebFrameWorkedWith</th>\n      <td>Which of the following web frameworks have you...</td>\n    </tr>\n    <tr>\n      <th>WebFrameDesireNextYear</th>\n      <td>Which of the following web frameworks have you...</td>\n    </tr>\n    <tr>\n      <th>MiscTechWorkedWith</th>\n      <td>Which of the following other frameworks, libra...</td>\n    </tr>\n    <tr>\n      <th>MiscTechDesireNextYear</th>\n      <td>Which of the following other frameworks, libra...</td>\n    </tr>\n    <tr>\n      <th>DevEnviron</th>\n      <td>Which development environment(s) do you use re...</td>\n    </tr>\n    <tr>\n      <th>OpSys</th>\n      <td>What is the primary operating system in which ...</td>\n    </tr>\n    <tr>\n      <th>Containers</th>\n      <td>How do you use containers (Docker, Open Contai...</td>\n    </tr>\n    <tr>\n      <th>BlockchainOrg</th>\n      <td>How is your organization thinking about or imp...</td>\n    </tr>\n    <tr>\n      <th>BlockchainIs</th>\n      <td>Blockchain / cryptocurrency technology is prim...</td>\n    </tr>\n    <tr>\n      <th>BetterLife</th>\n      <td>Do you think people born today will have a bet...</td>\n    </tr>\n    <tr>\n      <th>ITperson</th>\n      <td>Are you the \"IT support person\" for your family?</td>\n    </tr>\n    <tr>\n      <th>OffOn</th>\n      <td>Have you tried turning it off and on again?</td>\n    </tr>\n    <tr>\n      <th>SocialMedia</th>\n      <td>What social media site do you use the most?</td>\n    </tr>\n    <tr>\n      <th>Extraversion</th>\n      <td>Do you prefer online chat or IRL conversations?</td>\n    </tr>\n    <tr>\n      <th>ScreenName</th>\n      <td>What do you call it?</td>\n    </tr>\n    <tr>\n      <th>SOVisit1st</th>\n      <td>To the best of your memory, when did you first...</td>\n    </tr>\n    <tr>\n      <th>SOVisitFreq</th>\n      <td>How frequently would you say you visit Stack O...</td>\n    </tr>\n    <tr>\n      <th>SOVisitTo</th>\n      <td>I visit Stack Overflow to... (check all that a...</td>\n    </tr>\n    <tr>\n      <th>SOFindAnswer</th>\n      <td>On average, how many times a week do you find ...</td>\n    </tr>\n    <tr>\n      <th>SOTimeSaved</th>\n      <td>Think back to the last time you solved a codin...</td>\n    </tr>\n    <tr>\n      <th>SOHowMuchTime</th>\n      <td>About how much time did you save? If you're no...</td>\n    </tr>\n    <tr>\n      <th>SOAccount</th>\n      <td>Do you have a Stack Overflow account?</td>\n    </tr>\n    <tr>\n      <th>SOPartFreq</th>\n      <td>How frequently would you say you participate i...</td>\n    </tr>\n    <tr>\n      <th>SOJobs</th>\n      <td>Have you ever used or visited Stack Overflow J...</td>\n    </tr>\n    <tr>\n      <th>EntTeams</th>\n      <td>Have you ever used Stack Overflow for Enterpri...</td>\n    </tr>\n    <tr>\n      <th>SOComm</th>\n      <td>Do you consider yourself a member of the Stack...</td>\n    </tr>\n    <tr>\n      <th>WelcomeChange</th>\n      <td>Compared to last year, how welcome do you feel...</td>\n    </tr>\n    <tr>\n      <th>SONewContent</th>\n      <td>Would you like to see any of the following on ...</td>\n    </tr>\n    <tr>\n      <th>Age</th>\n      <td>What is your age (in years)? If you prefer not...</td>\n    </tr>\n    <tr>\n      <th>Gender</th>\n      <td>Which of the following do you currently identi...</td>\n    </tr>\n    <tr>\n      <th>Trans</th>\n      <td>Do you identify as transgender?</td>\n    </tr>\n    <tr>\n      <th>Sexuality</th>\n      <td>Which of the following do you currently identi...</td>\n    </tr>\n    <tr>\n      <th>Ethnicity</th>\n      <td>Which of the following do you identify as? Ple...</td>\n    </tr>\n    <tr>\n      <th>Dependents</th>\n      <td>Do you have any dependents (e.g., children, el...</td>\n    </tr>\n    <tr>\n      <th>SurveyLength</th>\n      <td>How do you feel about the length of the survey...</td>\n    </tr>\n    <tr>\n      <th>SurveyEase</th>\n      <td>How easy or difficult was this survey to compl...</td>\n    </tr>\n  </tbody>\n</table>\n</div>"
     },
     "execution_count": 5,
     "metadata": {},
     "output_type": "execute_result"
    }
   ],
   "source": [
    "schema_df"
   ]
  },
  {
   "cell_type": "code",
   "execution_count": 6,
   "id": "610b87f1",
   "metadata": {
    "pycharm": {
     "name": "#%%\n"
    }
   },
   "outputs": [
    {
     "data": {
      "text/plain": "Respondent\n1            NaN\n2            NaN\n3         8820.0\n4        61000.0\n5            NaN\n          ...   \n88377        NaN\n88601        NaN\n88802        NaN\n88816        NaN\n88863        NaN\nName: ConvertedComp, Length: 88883, dtype: float64"
     },
     "execution_count": 6,
     "metadata": {},
     "output_type": "execute_result"
    }
   ],
   "source": [
    "df['ConvertedComp']"
   ]
  },
  {
   "cell_type": "code",
   "execution_count": 7,
   "id": "df87a40f",
   "metadata": {
    "pycharm": {
     "name": "#%%\n"
    }
   },
   "outputs": [
    {
     "data": {
      "text/plain": "Respondent\n1        United Kingdom\n4         United States\n6                Canada\n8                 India\n10                India\n              ...      \n85642     United States\n85961    United Kingdom\n86012             India\n88282     United States\n88377            Canada\nName: Country, Length: 45008, dtype: object"
     },
     "execution_count": 7,
     "metadata": {},
     "output_type": "execute_result"
    }
   ],
   "source": [
    "## 过滤器筛选多个值\n",
    "countries = ['United States','India','United Kingdom','Germany','Canada']\n",
    "high_salary = (df['ConvertedComp'] > 70000)\n",
    "filt = df['Country'].isin(countries)\n",
    "df.loc[filt,'Country']"
   ]
  },
  {
   "cell_type": "code",
   "execution_count": 8,
   "id": "ffbac09d",
   "metadata": {
    "pycharm": {
     "name": "#%%\n"
    }
   },
   "outputs": [
    {
     "data": {
      "text/plain": "Respondent\n1                          HTML/CSS;Java;JavaScript;Python\n2                                      C++;HTML/CSS;Python\n4                                      C;C++;C#;Python;SQL\n5              C++;HTML/CSS;Java;JavaScript;Python;SQL;VBA\n8        Bash/Shell/PowerShell;C;C++;HTML/CSS;Java;Java...\n                               ...                        \n84539    Bash/Shell/PowerShell;C;C++;HTML/CSS;Java;Java...\n85738      Bash/Shell/PowerShell;C++;Python;Ruby;Other(s):\n86566      Bash/Shell/PowerShell;HTML/CSS;Python;Other(s):\n87739             C;C++;HTML/CSS;JavaScript;PHP;Python;SQL\n88212                           HTML/CSS;JavaScript;Python\nName: LanguageWorkedWith, Length: 36443, dtype: object"
     },
     "execution_count": 8,
     "metadata": {},
     "output_type": "execute_result"
    }
   ],
   "source": [
    "## 过滤器筛选字符串，字符串函数有很多其他的方法，替换，截断等\n",
    "## na=False 空值不取\n",
    "filt2 = df['LanguageWorkedWith'].str.contains('Python',na=False)\n",
    "df.loc[filt2,'LanguageWorkedWith']"
   ]
  },
  {
   "cell_type": "code",
   "execution_count": 8,
   "id": "1f4872cc",
   "metadata": {
    "pycharm": {
     "name": "#%%\n"
    }
   },
   "outputs": [],
   "source": []
  },
  {
   "cell_type": "code",
   "execution_count": 9,
   "id": "15071425",
   "metadata": {
    "pycharm": {
     "name": "#%%\n"
    }
   },
   "outputs": [
    {
     "data": {
      "text/plain": "                   Country  ConvertedComp  \\\nRespondent                                  \n6                   Canada       366420.0   \n9              New Zealand        95179.0   \n13           United States        90000.0   \n16          United Kingdom       455352.0   \n22           United States       103000.0   \n...                    ...            ...   \n88876        United States       180000.0   \n88877        United States      2000000.0   \n88878        United States       130000.0   \n88879              Finland        82488.0   \n88882          Netherlands       588012.0   \n\n                                           LanguageWorkedWith  \nRespondent                                                     \n6                                                  Java;R;SQL  \n9           Bash/Shell/PowerShell;C#;HTML/CSS;JavaScript;P...  \n13          Bash/Shell/PowerShell;HTML/CSS;JavaScript;PHP;...  \n16          Bash/Shell/PowerShell;C#;HTML/CSS;JavaScript;T...  \n22          Bash/Shell/PowerShell;C++;HTML/CSS;JavaScript;...  \n...                                                       ...  \n88876       Bash/Shell/PowerShell;C#;HTML/CSS;Java;Python;...  \n88877       Bash/Shell/PowerShell;C;Clojure;HTML/CSS;Java;...  \n88878                    HTML/CSS;JavaScript;Scala;TypeScript  \n88879                        Bash/Shell/PowerShell;C++;Python  \n88882                  C#;HTML/CSS;Java;JavaScript;PHP;Python  \n\n[22289 rows x 3 columns]",
      "text/html": "<div>\n<style scoped>\n    .dataframe tbody tr th:only-of-type {\n        vertical-align: middle;\n    }\n\n    .dataframe tbody tr th {\n        vertical-align: top;\n    }\n\n    .dataframe thead th {\n        text-align: right;\n    }\n</style>\n<table border=\"1\" class=\"dataframe\">\n  <thead>\n    <tr style=\"text-align: right;\">\n      <th></th>\n      <th>Country</th>\n      <th>ConvertedComp</th>\n      <th>LanguageWorkedWith</th>\n    </tr>\n    <tr>\n      <th>Respondent</th>\n      <th></th>\n      <th></th>\n      <th></th>\n    </tr>\n  </thead>\n  <tbody>\n    <tr>\n      <th>6</th>\n      <td>Canada</td>\n      <td>366420.0</td>\n      <td>Java;R;SQL</td>\n    </tr>\n    <tr>\n      <th>9</th>\n      <td>New Zealand</td>\n      <td>95179.0</td>\n      <td>Bash/Shell/PowerShell;C#;HTML/CSS;JavaScript;P...</td>\n    </tr>\n    <tr>\n      <th>13</th>\n      <td>United States</td>\n      <td>90000.0</td>\n      <td>Bash/Shell/PowerShell;HTML/CSS;JavaScript;PHP;...</td>\n    </tr>\n    <tr>\n      <th>16</th>\n      <td>United Kingdom</td>\n      <td>455352.0</td>\n      <td>Bash/Shell/PowerShell;C#;HTML/CSS;JavaScript;T...</td>\n    </tr>\n    <tr>\n      <th>22</th>\n      <td>United States</td>\n      <td>103000.0</td>\n      <td>Bash/Shell/PowerShell;C++;HTML/CSS;JavaScript;...</td>\n    </tr>\n    <tr>\n      <th>...</th>\n      <td>...</td>\n      <td>...</td>\n      <td>...</td>\n    </tr>\n    <tr>\n      <th>88876</th>\n      <td>United States</td>\n      <td>180000.0</td>\n      <td>Bash/Shell/PowerShell;C#;HTML/CSS;Java;Python;...</td>\n    </tr>\n    <tr>\n      <th>88877</th>\n      <td>United States</td>\n      <td>2000000.0</td>\n      <td>Bash/Shell/PowerShell;C;Clojure;HTML/CSS;Java;...</td>\n    </tr>\n    <tr>\n      <th>88878</th>\n      <td>United States</td>\n      <td>130000.0</td>\n      <td>HTML/CSS;JavaScript;Scala;TypeScript</td>\n    </tr>\n    <tr>\n      <th>88879</th>\n      <td>Finland</td>\n      <td>82488.0</td>\n      <td>Bash/Shell/PowerShell;C++;Python</td>\n    </tr>\n    <tr>\n      <th>88882</th>\n      <td>Netherlands</td>\n      <td>588012.0</td>\n      <td>C#;HTML/CSS;Java;JavaScript;PHP;Python</td>\n    </tr>\n  </tbody>\n</table>\n<p>22289 rows × 3 columns</p>\n</div>"
     },
     "execution_count": 9,
     "metadata": {},
     "output_type": "execute_result"
    }
   ],
   "source": [
    "df.loc[high_salary,['Country','ConvertedComp','LanguageWorkedWith']]"
   ]
  },
  {
   "cell_type": "code",
   "execution_count": 9,
   "id": "a34d95c3",
   "metadata": {
    "pycharm": {
     "name": "#%%\n"
    }
   },
   "outputs": [],
   "source": []
  }
 ],
 "metadata": {
  "kernelspec": {
   "display_name": "Python 3 (ipykernel)",
   "language": "python",
   "name": "python3"
  },
  "language_info": {
   "codemirror_mode": {
    "name": "ipython",
    "version": 3
   },
   "file_extension": ".py",
   "mimetype": "text/x-python",
   "name": "python",
   "nbconvert_exporter": "python",
   "pygments_lexer": "ipython3",
   "version": "3.8.9"
  }
 },
 "nbformat": 4,
 "nbformat_minor": 5
}