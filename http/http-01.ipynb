{
 "cells": [
  {
   "cell_type": "code",
   "execution_count": 4,
   "outputs": [
    {
     "name": "stdout",
     "output_type": "stream",
     "text": [
      "https://httpbin.org/get?firstName=John&lastName=Smith\n",
      "200\n",
      "b'{\\n  \"args\": {\\n    \"firstName\": \"John\", \\n    \"lastName\": \"Smith\"\\n  }, \\n  \"headers\": {\\n    \"Accept\": \"*/*\", \\n    \"Accept-Encoding\": \"gzip, deflate\", \\n    \"Host\": \"httpbin.org\", \\n    \"User-Agent\": \"python-requests/2.27.1\", \\n    \"X-Amzn-Trace-Id\": \"Root=1-629ef1be-2655003e446d0b1532fd526c\"\\n  }, \\n  \"origin\": \"154.214.4.100\", \\n  \"url\": \"https://httpbin.org/get?firstName=John&lastName=Smith\"\\n}\\n'\n",
      "{\n",
      "  \"args\": {\n",
      "    \"firstName\": \"John\", \n",
      "    \"lastName\": \"Smith\"\n",
      "  }, \n",
      "  \"headers\": {\n",
      "    \"Accept\": \"*/*\", \n",
      "    \"Accept-Encoding\": \"gzip, deflate\", \n",
      "    \"Host\": \"httpbin.org\", \n",
      "    \"User-Agent\": \"python-requests/2.27.1\", \n",
      "    \"X-Amzn-Trace-Id\": \"Root=1-629ef1be-2655003e446d0b1532fd526c\"\n",
      "  }, \n",
      "  \"origin\": \"154.214.4.100\", \n",
      "  \"url\": \"https://httpbin.org/get?firstName=John&lastName=Smith\"\n",
      "}\n",
      "\n"
     ]
    }
   ],
   "source": [
    "## http get request\n",
    "import requests\n",
    "\n",
    "payload = {\"firstName\":\"John\",\"lastName\":\"Smith\"}\n",
    "r = requests.get(\"https://httpbin.org/get\",params=payload)\n",
    "print(r.url)\n",
    "print(r.status_code)\n",
    "print(r.content)\n",
    "print(r.text)\n"
   ],
   "metadata": {
    "collapsed": false,
    "pycharm": {
     "name": "#%%\n"
    }
   }
  },
  {
   "cell_type": "code",
   "execution_count": 6,
   "outputs": [
    {
     "name": "stdout",
     "output_type": "stream",
     "text": [
      "{\n",
      "  \"args\": {}, \n",
      "  \"data\": \"\", \n",
      "  \"files\": {}, \n",
      "  \"form\": {\n",
      "    \"firstName\": \"John\", \n",
      "    \"lastName\": \"Smith\"\n",
      "  }, \n",
      "  \"headers\": {\n",
      "    \"Accept\": \"*/*\", \n",
      "    \"Accept-Encoding\": \"gzip, deflate\", \n",
      "    \"Content-Length\": \"29\", \n",
      "    \"Content-Type\": \"application/x-www-form-urlencoded\", \n",
      "    \"Host\": \"httpbin.org\", \n",
      "    \"User-Agent\": \"python-requests/2.27.1\", \n",
      "    \"X-Amzn-Trace-Id\": \"Root=1-629ef389-5b84db3b1b527785282afe29\"\n",
      "  }, \n",
      "  \"json\": null, \n",
      "  \"origin\": \"154.214.4.100\", \n",
      "  \"url\": \"https://httpbin.org/post\"\n",
      "}\n",
      "\n"
     ]
    }
   ],
   "source": [
    "## post\n",
    "r = requests.post(\"https://httpbin.org/post\",data=payload)\n",
    "print(r.text)"
   ],
   "metadata": {
    "collapsed": false,
    "pycharm": {
     "name": "#%%\n"
    }
   }
  },
  {
   "cell_type": "code",
   "execution_count": 9,
   "outputs": [
    {
     "name": "stdout",
     "output_type": "stream",
     "text": [
      "200\n",
      "{\n",
      "  \"args\": {}, \n",
      "  \"data\": \"\", \n",
      "  \"files\": {\n",
      "    \"copy1\": \"hell,you\\nme,me\", \n",
      "    \"copy2\": \"hell,you\\nme,me\"\n",
      "  }, \n",
      "  \"form\": {}, \n",
      "  \"headers\": {\n",
      "    \"Accept\": \"*/*\", \n",
      "    \"Accept-Encoding\": \"gzip, deflate\", \n",
      "    \"Content-Length\": \"318\", \n",
      "    \"Content-Type\": \"multipart/form-data; boundary=2bf0c911df207828556ccaee4bcd6c33\", \n",
      "    \"Host\": \"httpbin.org\", \n",
      "    \"User-Agent\": \"python-requests/2.27.1\", \n",
      "    \"X-Amzn-Trace-Id\": \"Root=1-629f006e-501eb791216cca637c56f221\"\n",
      "  }, \n",
      "  \"json\": null, \n",
      "  \"origin\": \"154.214.4.100\", \n",
      "  \"url\": \"https://httpbin.org/post\"\n",
      "}\n",
      "\n"
     ]
    }
   ],
   "source": [
    "## file\n",
    "uri = 'https://httpbin.org/post'\n",
    "# files = {'file':open('test.csv','rb')}\n",
    "files = [\n",
    "    ('copy1',('test.csv',open('test.csv','rb'),'csv')),\n",
    "    ('copy2',('test.csv',open('test.csv','rb'),'csv'))\n",
    "]\n",
    "r = requests.post(uri,files=files)\n",
    "print(r.status_code)\n",
    "print(r.text)"
   ],
   "metadata": {
    "collapsed": false,
    "pycharm": {
     "name": "#%%\n"
    }
   }
  },
  {
   "cell_type": "code",
   "execution_count": 15,
   "outputs": [
    {
     "name": "stdout",
     "output_type": "stream",
     "text": [
      "22197266984\n"
     ]
    }
   ],
   "source": [
    "# json\n",
    "uri = 'https://api.github.com/events'\n",
    "r = requests.get(uri)\n",
    "events = r.json()\n",
    "print(events[0]['id'])"
   ],
   "metadata": {
    "collapsed": false,
    "pycharm": {
     "name": "#%%\n"
    }
   }
  },
  {
   "cell_type": "code",
   "execution_count": 19,
   "outputs": [
    {
     "name": "stdout",
     "output_type": "stream",
     "text": [
      "{\n",
      "  \"args\": {}, \n",
      "  \"data\": \"{\\\"firstName\\\": \\\"John\\\"}\", \n",
      "  \"files\": {}, \n",
      "  \"form\": {}, \n",
      "  \"headers\": {\n",
      "    \"Accept\": \"*/*\", \n",
      "    \"Accept-Encoding\": \"gzip, deflate\", \n",
      "    \"Content-Length\": \"21\", \n",
      "    \"Content-Type\": \"application/json\", \n",
      "    \"Host\": \"httpbin.org\", \n",
      "    \"User-Agent\": \"python-requests/2.27.1\", \n",
      "    \"X-Amzn-Trace-Id\": \"Root=1-629f08bb-5735f55834b7419e6b024626\"\n",
      "  }, \n",
      "  \"json\": {\n",
      "    \"firstName\": \"John\"\n",
      "  }, \n",
      "  \"origin\": \"154.214.4.100\", \n",
      "  \"url\": \"https://httpbin.org/post\"\n",
      "}\n",
      "\n"
     ]
    }
   ],
   "source": [
    "# json\n",
    "data = {'firstName':'John'}\n",
    "uri = 'https://httpbin.org/post'\n",
    "r = requests.post(uri,json=data)\n",
    "print(r.text)"
   ],
   "metadata": {
    "collapsed": false,
    "pycharm": {
     "name": "#%%\n"
    }
   }
  },
  {
   "cell_type": "code",
   "execution_count": null,
   "outputs": [],
   "source": [
    "## header\n",
    "# media type :\n",
    "# application/json\n",
    "# text/plain\n",
    "# text/javascript\n",
    "# multipart/form-data\n",
    "#\n",
    "headers = {'content-type': 'multipart/form-data'}\n",
    "\n"
   ],
   "metadata": {
    "collapsed": false,
    "pycharm": {
     "name": "#%%\n"
    }
   }
  }
 ],
 "metadata": {
  "kernelspec": {
   "display_name": "Python 3",
   "language": "python",
   "name": "python3"
  },
  "language_info": {
   "codemirror_mode": {
    "name": "ipython",
    "version": 2
   },
   "file_extension": ".py",
   "mimetype": "text/x-python",
   "name": "python",
   "nbconvert_exporter": "python",
   "pygments_lexer": "ipython2",
   "version": "2.7.6"
  }
 },
 "nbformat": 4,
 "nbformat_minor": 0
}